{
 "cells": [
  {
   "cell_type": "code",
   "execution_count": 2,
   "id": "e1e60ef5-cece-43fd-923a-ae7f334bd69c",
   "metadata": {
    "tags": []
   },
   "outputs": [],
   "source": [
    "#SORTING ASSIGNMENT"
   ]
  },
  {
   "cell_type": "code",
   "execution_count": 5,
   "id": "db6aa03d-b41e-428a-94e9-64a74d2bac9b",
   "metadata": {
    "tags": []
   },
   "outputs": [],
   "source": [
    "#PROBLEM 1"
   ]
  },
  {
   "cell_type": "code",
   "execution_count": 4,
   "id": "d4bfa796-0111-410d-b7a3-0450b43aa32b",
   "metadata": {
    "tags": []
   },
   "outputs": [],
   "source": [
    "#GIVEN AN ARRAY OF N NUMBERS, GIVE AN ALGORITHM WHICH GIVES THE ELEMENT APPEARING MAXIMUM NUMBER OF TIMES?"
   ]
  },
  {
   "cell_type": "code",
   "execution_count": 8,
   "id": "f4dfc20d-de31-415e-8eea-57e29cab85f2",
   "metadata": {
    "tags": []
   },
   "outputs": [
    {
     "name": "stdout",
     "output_type": "stream",
     "text": [
      "2\n"
     ]
    }
   ],
   "source": [
    "def find_max_occurrence(array):\n",
    "    count_dict = {}\n",
    "    max_count = 0\n",
    "    max_element = None\n",
    "    for element in array:\n",
    "        if element in array:\n",
    "            if element in count_dict:\n",
    "                count_dict[element] +=1\n",
    "            else:\n",
    "                count_dict[element] = 1\n",
    "        if count_dict[element] > max_count:\n",
    "            max_count = count_dict[element]\n",
    "            max_element = element\n",
    "    return max_element\n",
    "array = [1,2,3,2,4,2,5,3,2]\n",
    "result = find_max_occurrence(array)\n",
    "print(result)"
   ]
  },
  {
   "cell_type": "code",
   "execution_count": null,
   "id": "9771c8c8-7964-4d5a-8c73-2fcd7e1708d3",
   "metadata": {},
   "outputs": [],
   "source": []
  },
  {
   "cell_type": "code",
   "execution_count": null,
   "id": "b7169173-3814-49af-8e36-6997e63a3250",
   "metadata": {},
   "outputs": [],
   "source": []
  },
  {
   "cell_type": "code",
   "execution_count": 6,
   "id": "231b49a7-b085-449b-a8f8-174df16d191e",
   "metadata": {
    "tags": []
   },
   "outputs": [],
   "source": [
    "#PROBLEM 2"
   ]
  },
  {
   "cell_type": "code",
   "execution_count": 10,
   "id": "bb2832f5-e083-4ddf-909d-18be956eac3e",
   "metadata": {
    "tags": []
   },
   "outputs": [],
   "source": [
    "#WE ARE GIVEN A LIST OF N-1 INTEGERS AND THESE INTEGERS ARE IN THE RANGE OF 1 TO N. THERE ARE NO DUPLICATES IN THE LIST ONE OF THE INTEGERS IS MISSING IN THE LIST. GIVE AN ALGORITHM TO FIND THAT ELEMENT EX: [1,2,4,6,3,7,8] 5 is the missing num."
   ]
  },
  {
   "cell_type": "code",
   "execution_count": null,
   "id": "5a93e7a1-a361-4514-93a4-b22608c6904d",
   "metadata": {},
   "outputs": [],
   "source": [
    "def find_missing_number(nums):\n",
    "    n= len(nums)+1\n",
    "    total_sum = (n*(n+1))//2\n",
    "    actual_sum = sum(nums)\n",
    "    missing_number = total_sum-actual_sum\n",
    "    return missing_number\n",
    "numbers = [1,2,4,6,3,7,8]\n",
    "mi"
   ]
  },
  {
   "cell_type": "code",
   "execution_count": null,
   "id": "e8d4b34f-71d0-405a-836a-01e88f0fbddd",
   "metadata": {},
   "outputs": [],
   "source": []
  },
  {
   "cell_type": "code",
   "execution_count": null,
   "id": "975ee2be-369c-49e9-b7c7-ac1c6d9e890c",
   "metadata": {},
   "outputs": [],
   "source": []
  },
  {
   "cell_type": "code",
   "execution_count": 13,
   "id": "3933193c-340a-40c9-90fe-236fecc8d50e",
   "metadata": {
    "tags": []
   },
   "outputs": [],
   "source": [
    "#PROBLEM 3"
   ]
  },
  {
   "cell_type": "code",
   "execution_count": 12,
   "id": "1a247cce-3061-44ad-9067-4c436cf2073a",
   "metadata": {
    "tags": []
   },
   "outputs": [],
   "source": [
    "#GIVEN AN ARRAY OF N POSITIVE NUMBERS. ALL NUMBERS OCCURS EVEN NUMBER OF TIMES EXCEPT 1 WHICH OCCURS ODD NUMBER OF TIMES. FIND THAT NUMBER IN O(N) AND O(1) SPACE. EX: [1,2,3,2,3,1,3].3 IS REPEATS ODD TIMES."
   ]
  },
  {
   "cell_type": "code",
   "execution_count": 21,
   "id": "e6566c2d-5a48-467b-8e0c-784384784192",
   "metadata": {},
   "outputs": [
    {
     "name": "stdout",
     "output_type": "stream",
     "text": [
      "3\n"
     ]
    }
   ],
   "source": [
    "def find_odd_occurrence(arr):\n",
    "    result = 0\n",
    "    for num in arr:\n",
    "        result^=num\n",
    "    return result\n",
    "array = [1,2,3,2,3,1,3]\n",
    "odd_occurrence=find_odd_occurrence(array)\n",
    "print(odd_occurrence)"
   ]
  },
  {
   "cell_type": "code",
   "execution_count": null,
   "id": "13860e8b-5902-4df7-83de-21052fee4539",
   "metadata": {},
   "outputs": [],
   "source": []
  },
  {
   "cell_type": "code",
   "execution_count": null,
   "id": "490dab6e-445b-49c4-944d-ca2b26566e48",
   "metadata": {
    "tags": []
   },
   "outputs": [],
   "source": []
  },
  {
   "cell_type": "code",
   "execution_count": 16,
   "id": "4661c134-4266-4762-853b-d4b376670311",
   "metadata": {
    "tags": []
   },
   "outputs": [],
   "source": [
    "#PROBLEM 4"
   ]
  },
  {
   "cell_type": "code",
   "execution_count": 17,
   "id": "53e572eb-4816-4cde-86fb-a1add02f158a",
   "metadata": {
    "tags": []
   },
   "outputs": [],
   "source": [
    "#GIVEN AN ARRAY OF N ELEMENTS.FIND TWO ELEMENTS IN THE ARRAY SUCH THAT THEIR SUM IS EQUAL TO GIVEN ELEMENT K"
   ]
  },
  {
   "cell_type": "code",
   "execution_count": 18,
   "id": "a9df525d-166c-449b-9121-31f8bdcd55d4",
   "metadata": {},
   "outputs": [
    {
     "name": "stdout",
     "output_type": "stream",
     "text": [
      "(4, 3)\n"
     ]
    }
   ],
   "source": [
    "def find_sum_pair(arr,K):\n",
    "    complement_set = set()\n",
    "    for num in arr:\n",
    "        complement = K - num\n",
    "        if complement in complement_set:\n",
    "            return (num,complement)\n",
    "        complement_set.add(num)\n",
    "    return None\n",
    "array = [1,2,3,4,5]\n",
    "target_sum=7\n",
    "result = find_sum_pair(array,target_sum)\n",
    "print(result)"
   ]
  },
  {
   "cell_type": "code",
   "execution_count": null,
   "id": "f688f025-b958-4dd6-a0cc-54fdfa39f488",
   "metadata": {},
   "outputs": [],
   "source": []
  },
  {
   "cell_type": "code",
   "execution_count": null,
   "id": "b6b2cda1-d2a5-45ee-927e-e2951b301a75",
   "metadata": {},
   "outputs": [],
   "source": []
  },
  {
   "cell_type": "code",
   "execution_count": 18,
   "id": "f856216c-e8dd-432f-9499-7bbf5c8d437a",
   "metadata": {
    "tags": []
   },
   "outputs": [],
   "source": [
    "#PROBLEM 5"
   ]
  },
  {
   "cell_type": "code",
   "execution_count": 19,
   "id": "3faafa35-dcf2-4072-8eb0-bcc27052768b",
   "metadata": {
    "tags": []
   },
   "outputs": [],
   "source": [
    "#GIVEN AN ARRAY OF BOTH POSITIVE AND NEGATIVE NUMBERS, FIND TWO NUMBERS SUCH THAT THEIR SUM IS CLOSET TO 0. [1,60,-10,70,-80,85]."
   ]
  },
  {
   "cell_type": "code",
   "execution_count": 17,
   "id": "e266df2e-202e-4277-9bb6-d56014121950",
   "metadata": {},
   "outputs": [
    {
     "name": "stdout",
     "output_type": "stream",
     "text": [
      "(-80, 85)\n"
     ]
    }
   ],
   "source": [
    "def find_closest_to_zero(arr):\n",
    "    arr.sort()\n",
    "    left = 0\n",
    "    right = len(arr)-1\n",
    "    closest_sum = float('inf')\n",
    "    closest_pair =None\n",
    "    while left<right:\n",
    "        current_sum = arr[left]+arr[right]\n",
    "        if abs(current_sum)<abs(closest_sum):\n",
    "            closest_sum = current_sum\n",
    "            closest_pair = (arr[left],arr[right])\n",
    "        if current_sum<0:\n",
    "            left += 1\n",
    "        else:\n",
    "            right -= 1\n",
    "    return closest_pair\n",
    "array = [1,60,-10,70,-80,85]\n",
    "result = find_closest_to_zero(array)\n",
    "print(result)"
   ]
  },
  {
   "cell_type": "code",
   "execution_count": null,
   "id": "affae717-9850-4685-9403-0e2292737ca5",
   "metadata": {},
   "outputs": [],
   "source": []
  },
  {
   "cell_type": "code",
   "execution_count": null,
   "id": "7621262a-6b9e-4507-9423-04a088c52f01",
   "metadata": {},
   "outputs": [],
   "source": []
  },
  {
   "cell_type": "code",
   "execution_count": 20,
   "id": "29c33e26-647a-4107-ac6e-6e64e292ea6c",
   "metadata": {
    "tags": []
   },
   "outputs": [],
   "source": [
    "#PROBLEM 6"
   ]
  },
  {
   "cell_type": "code",
   "execution_count": 21,
   "id": "04e9f3c7-2394-4977-a468-81788c04fca6",
   "metadata": {
    "tags": []
   },
   "outputs": [],
   "source": [
    "#GIVEN AN ARRAY OF N ELEMENTS. FIND THREE ELEMENTS SUCH THAT THEIR SUM IS EQUAL TO GIVEN NUMBER."
   ]
  },
  {
   "cell_type": "code",
   "execution_count": 12,
   "id": "2a26490d-d35f-49c5-97ad-345fc4009003",
   "metadata": {},
   "outputs": [
    {
     "name": "stdout",
     "output_type": "stream",
     "text": [
      "(2, 4, 12)\n"
     ]
    }
   ],
   "source": [
    "def find_three_elements(arr,target_sum):\n",
    "    n = len(arr)\n",
    "    for i in range(n):\n",
    "        for j in range(i+1,n):\n",
    "            for k in range(j+1,n):\n",
    "                if arr[i]+arr[j]+arr[k]==target_sum:\n",
    "                    return (arr[i],arr[j],arr[k])\n",
    "    return None\n",
    "array = [2,4,6,8,10,12]\n",
    "target = 18\n",
    "result = 18\n",
    "result = find_three_elements(array, target)\n",
    "print(result)"
   ]
  },
  {
   "cell_type": "code",
   "execution_count": null,
   "id": "9528ebfd-e6b8-45ee-ab97-d1039ae76c7d",
   "metadata": {},
   "outputs": [],
   "source": []
  },
  {
   "cell_type": "code",
   "execution_count": null,
   "id": "bccafcc2-dff0-43f7-a3af-7cb808761af2",
   "metadata": {},
   "outputs": [],
   "source": []
  },
  {
   "cell_type": "code",
   "execution_count": 22,
   "id": "f8626496-330b-4c45-a9cf-82e5589e2e0a",
   "metadata": {
    "tags": []
   },
   "outputs": [],
   "source": [
    "#PROBLEM 7"
   ]
  },
  {
   "cell_type": "code",
   "execution_count": 23,
   "id": "3848f138-f4fb-4bd0-8181-16eee881f313",
   "metadata": {
    "tags": []
   },
   "outputs": [],
   "source": [
    "#GIVEN AN ARRAY OF N ELEMENTS. FIND THREE ELEMENTS I,J,K IN THE ARRAY SUCH THAT I*I+J*J = K*K."
   ]
  },
  {
   "cell_type": "code",
   "execution_count": 11,
   "id": "3f832c3d-8f8a-48e8-91dd-03540b6bf931",
   "metadata": {},
   "outputs": [
    {
     "name": "stdout",
     "output_type": "stream",
     "text": [
      "(4, 5, 10)\n"
     ]
    }
   ],
   "source": [
    "def find_pythagorean_triplet(arr):\n",
    "    n=len(arr)\n",
    "    for i in range(n):\n",
    "        for j in range(i+1,n):\n",
    "            for k in range(j+1,n):\n",
    "                if arr[i]*arr[j]*arr[j]==arr[k]*arr[k]:\n",
    "                    return (arr[i],arr[j],arr[k])\n",
    "    return None\n",
    "array = [3,4,5,6,8,10]\n",
    "result = find_pythagorean_triplet(array)\n",
    "print(result)"
   ]
  },
  {
   "cell_type": "code",
   "execution_count": null,
   "id": "54e89607-449c-4a66-8c25-f2d141f1a2d0",
   "metadata": {},
   "outputs": [],
   "source": []
  },
  {
   "cell_type": "code",
   "execution_count": null,
   "id": "24353b83-6972-4018-90d3-dddfc50abf40",
   "metadata": {},
   "outputs": [],
   "source": []
  },
  {
   "cell_type": "code",
   "execution_count": 1,
   "id": "7ce8a4aa-71f8-42de-a9f2-4722ef5fdb64",
   "metadata": {},
   "outputs": [],
   "source": [
    "#PROBLEM 8"
   ]
  },
  {
   "cell_type": "code",
   "execution_count": 2,
   "id": "42d91274-d844-4e2d-a015-4916001fa101",
   "metadata": {
    "tags": []
   },
   "outputs": [],
   "source": [
    "#AN ELEMENT IS A MAJORITY IF IT APPERARS MORE THAN N/2 TIMES. GIVE AN ALGORITHM TAKES AN ARRAY OF N ELEMENT AS ARGUMENT AND IDETIFIES A MAJORITY (IF IT EXISTS)."
   ]
  },
  {
   "cell_type": "code",
   "execution_count": 10,
   "id": "44e959c9-c90b-4856-a85f-7532c27255ee",
   "metadata": {
    "tags": []
   },
   "outputs": [
    {
     "name": "stdout",
     "output_type": "stream",
     "text": [
      "2\n"
     ]
    }
   ],
   "source": [
    "def find_majority_element(arr):\n",
    "    candidate = None\n",
    "    count = 0\n",
    "    for num in arr:\n",
    "        if count == 0:\n",
    "            candidate = num\n",
    "            count += 1\n",
    "        elif candidate == num:\n",
    "            count += 1\n",
    "        else:\n",
    "            count -= 1\n",
    "    count = 0\n",
    "    for num in arr:\n",
    "        if num == candidate:\n",
    "            count += 1\n",
    "    if count>len(arr)//2:\n",
    "        return candidate\n",
    "    else:\n",
    "        return None\n",
    "array = [2,2,1,1,1,2,2]\n",
    "result = find_majority_element(array)\n",
    "print(result)"
   ]
  },
  {
   "cell_type": "code",
   "execution_count": null,
   "id": "02752f00-2fd0-4326-bd6c-23aefaea182c",
   "metadata": {},
   "outputs": [],
   "source": []
  },
  {
   "cell_type": "code",
   "execution_count": null,
   "id": "4e988fbe-b4db-4fe4-a40f-6af412c45e16",
   "metadata": {},
   "outputs": [],
   "source": []
  },
  {
   "cell_type": "code",
   "execution_count": 3,
   "id": "696cfc50-1bf8-4852-a4e2-1a9751c82caa",
   "metadata": {
    "tags": []
   },
   "outputs": [],
   "source": [
    "#PROBLEM 9"
   ]
  },
  {
   "cell_type": "code",
   "execution_count": 4,
   "id": "80737e3b-8fe3-4daf-9a4e-c36ef0a91d59",
   "metadata": {
    "tags": []
   },
   "outputs": [],
   "source": [
    "#GIVEN N*N MATRIX, AND IN EACH ROW ALL 1'S ARE FOLLOWED BY 0'S. FIND THE ROW WITH THE MAXIMUM NUMBER OF 0'S."
   ]
  },
  {
   "cell_type": "code",
   "execution_count": 9,
   "id": "c990d953-c85d-4ff0-8173-d9bad3e3ece8",
   "metadata": {
    "tags": []
   },
   "outputs": [
    {
     "name": "stdout",
     "output_type": "stream",
     "text": [
      "1\n"
     ]
    }
   ],
   "source": [
    "def find_max_zeros_row(matrix):\n",
    "    n=len(matrix)\n",
    "    max_zeros_row = 0\n",
    "    max_zeros_count=0\n",
    "    for i in range(n):\n",
    "        zeros_count = matrix[i].count(0)\n",
    "        if zeros_count>max_zeros_count:\n",
    "            max_zeros_count = zeros_count\n",
    "            max_zeros_row = i\n",
    "    return max_zeros_row\n",
    "matrix = [[1,1,1,0],\n",
    "          [1,0,0,0],\n",
    "          [1,1,0,0],\n",
    "          [1,1,1,1]]\n",
    "result = find_max_zeros_row(matrix)\n",
    "print(result)"
   ]
  },
  {
   "cell_type": "code",
   "execution_count": null,
   "id": "c5e8a5f3-1a08-4735-8044-0dd4ab2d19b3",
   "metadata": {},
   "outputs": [],
   "source": []
  },
  {
   "cell_type": "code",
   "execution_count": null,
   "id": "eee0948a-b48f-49a6-9560-caf0e290a98e",
   "metadata": {},
   "outputs": [],
   "source": []
  },
  {
   "cell_type": "code",
   "execution_count": 5,
   "id": "55a57280-e831-45dc-8210-9fa02cc904e8",
   "metadata": {
    "tags": []
   },
   "outputs": [],
   "source": [
    "#PROBLEM 10"
   ]
  },
  {
   "cell_type": "code",
   "execution_count": 6,
   "id": "4b1c5eae-daec-432f-8a20-17100af8937f",
   "metadata": {
    "tags": []
   },
   "outputs": [],
   "source": [
    "#SORT AN ARRAY OF 0'S,1'S AND 2'S GIVEN AN ARRAY A[]  CONSISTING OF 0'S ,1'S AND 2'S GIVE AN ALGORITHMNFOR SORTING A[]. THE ALGORITHM SHOULD PUT ALL 0'S FIRST THEN ALL 1'S AND FINALLY ALL 2'S AT THE END."
   ]
  },
  {
   "cell_type": "code",
   "execution_count": 7,
   "id": "098e3f53-bbed-4ab0-a85a-5d73a18a70f1",
   "metadata": {
    "tags": []
   },
   "outputs": [
    {
     "name": "stdout",
     "output_type": "stream",
     "text": [
      "[0, 0, 0, 0, 0, 1, 1, 1, 1, 1, 2, 2]\n"
     ]
    }
   ],
   "source": [
    "def sort_array(array):\n",
    "    low = 0\n",
    "    mid = 0\n",
    "    high = len(array) - 1\n",
    "    while mid <= high:\n",
    "        if array[mid]==0:\n",
    "            array[low], array[mid] = array[mid],array[low]\n",
    "            low += 1\n",
    "            mid += 1\n",
    "        elif array[mid] ==1:\n",
    "            mid +=1\n",
    "        else:\n",
    "            array[mid],array[high] = array[high],array[mid]\n",
    "            high-=1\n",
    "    return array\n",
    "array = [0,1,1,0,1,2,1,2,0,0,0,1]\n",
    "result = sort_array(array)\n",
    "print(result)"
   ]
  },
  {
   "cell_type": "code",
   "execution_count": null,
   "id": "6a3b1ea3-7be1-47e1-b75d-0d9f973cbb72",
   "metadata": {},
   "outputs": [],
   "source": []
  }
 ],
 "metadata": {
  "kernelspec": {
   "display_name": "Python 3 (ipykernel)",
   "language": "python",
   "name": "python3"
  },
  "language_info": {
   "codemirror_mode": {
    "name": "ipython",
    "version": 3
   },
   "file_extension": ".py",
   "mimetype": "text/x-python",
   "name": "python",
   "nbconvert_exporter": "python",
   "pygments_lexer": "ipython3",
   "version": "3.11.4"
  }
 },
 "nbformat": 4,
 "nbformat_minor": 5
}
